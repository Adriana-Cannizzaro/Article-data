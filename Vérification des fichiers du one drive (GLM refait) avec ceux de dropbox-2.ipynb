{
 "cells": [
  {
   "cell_type": "code",
   "execution_count": 24,
   "id": "447a8cb6",
   "metadata": {},
   "outputs": [],
   "source": [
    "with open('/Users/adriana/Dropbox/proj_NPS_AD_LuLyAd/results/Adriana/grid_group_mci_ad.csv', 'r') as t1, open('/Users/adriana/Documents/NiemoLab/grid_group_mci_ad_fromonedrive.csv', 'r') as t2:\n",
    "    fileone = t1.readlines()\n",
    "    filetwo = t2.readlines()\n",
    "\n",
    "with open('/Users/adriana/Dropbox/proj_NPS_AD_LuLyAd/results/Adriana/differences_for_grids_mci_ad.csv', 'w') as outFile:\n",
    "    for line in filetwo:\n",
    "        if line not in fileone:\n",
    "            outFile.write(line)"
   ]
  },
  {
   "cell_type": "code",
   "execution_count": 25,
   "id": "67f7a13e",
   "metadata": {},
   "outputs": [],
   "source": [
    "with open('/Users/adriana/Dropbox/proj_NPS_AD_LuLyAd/results/Adriana/grid_group_cn_mci.csv', 'r') as t1, open('/Users/adriana/Documents/NiemoLab/grid_group_cn_mci_fromonedrive.csv', 'r') as t2:\n",
    "    fileone = t1.readlines()\n",
    "    filetwo = t2.readlines()\n",
    "\n",
    "with open('/Users/adriana/Dropbox/proj_NPS_AD_LuLyAd/results/Adriana/differences_for_grids_cn_mci.csv', 'w') as outFile:\n",
    "    for line in filetwo:\n",
    "        if line not in fileone:\n",
    "            outFile.write(line)"
   ]
  },
  {
   "cell_type": "code",
   "execution_count": 26,
   "id": "3183054a",
   "metadata": {},
   "outputs": [],
   "source": [
    "with open('/Users/adriana/Dropbox/proj_NPS_AD_LuLyAd/results/Adriana/grid_group_cn_ad.csv', 'r') as t1, open('/Users/adriana/Documents/NiemoLab/grid_group_cn_ad_fromonedrive.csv', 'r') as t2:\n",
    "    fileone = t1.readlines()\n",
    "    filetwo = t2.readlines()\n",
    "\n",
    "with open('/Users/adriana/Dropbox/proj_NPS_AD_LuLyAd/results/Adriana/differences_for_grids_cn_ad.csv', 'w') as outFile:\n",
    "    for line in filetwo:\n",
    "        if line not in fileone:\n",
    "            outFile.write(line)"
   ]
  },
  {
   "cell_type": "code",
   "execution_count": null,
   "id": "97573559",
   "metadata": {},
   "outputs": [],
   "source": []
  }
 ],
 "metadata": {
  "kernelspec": {
   "display_name": "Python 3",
   "language": "python",
   "name": "python3"
  },
  "language_info": {
   "codemirror_mode": {
    "name": "ipython",
    "version": 3
   },
   "file_extension": ".py",
   "mimetype": "text/x-python",
   "name": "python",
   "nbconvert_exporter": "python",
   "pygments_lexer": "ipython3",
   "version": "3.8.8"
  }
 },
 "nbformat": 4,
 "nbformat_minor": 5
}
